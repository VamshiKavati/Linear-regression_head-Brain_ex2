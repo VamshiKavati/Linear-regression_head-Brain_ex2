{
 "cells": [
  {
   "cell_type": "code",
   "execution_count": 29,
   "metadata": {},
   "outputs": [],
   "source": [
    "import pandas as pd\n",
    "from sklearn.linear_model import LinearRegression\n",
    "import matplotlib.pyplot as plt"
   ]
  },
  {
   "cell_type": "code",
   "execution_count": 30,
   "metadata": {},
   "outputs": [],
   "source": [
    "# Reading data\n",
    "\n",
    "iris = pd.read_csv('headbrain.csv')"
   ]
  },
  {
   "cell_type": "code",
   "execution_count": 31,
   "metadata": {},
   "outputs": [
    {
     "name": "stdout",
     "output_type": "stream",
     "text": [
      "   Gender  Age Range  Head Size(cm^3)  Brain Weight(grams)\n",
      "0       1          1             4512                 1530\n",
      "1       1          1             3738                 1297\n",
      "2       1          1             4261                 1335\n",
      "3       1          1             3777                 1282\n",
      "4       1          1             4177                 1590\n"
     ]
    }
   ],
   "source": [
    "print(iris.head())"
   ]
  },
  {
   "cell_type": "code",
   "execution_count": 32,
   "metadata": {},
   "outputs": [],
   "source": [
    "# assigning values\n",
    "\n",
    "x = iris[['Head Size(cm^3)']]\n",
    "\n",
    "y = iris[['Brain Weight(grams)']]"
   ]
  },
  {
   "cell_type": "code",
   "execution_count": 33,
   "metadata": {},
   "outputs": [],
   "source": [
    "# Creating instance for Linear regression model\n",
    "\n",
    "lr = LinearRegression()\n",
    "\n",
    "lr.fit(x, y)\n",
    "\n",
    "# predicting values for regression line \n",
    "\n",
    "Y = lr.predict(x)"
   ]
  },
  {
   "cell_type": "code",
   "execution_count": 34,
   "metadata": {},
   "outputs": [
    {
     "data": {
      "image/png": "[encoded data removed]",
      "text/plain": [
       "<Figure size 432x288 with 1 Axes>"
      ]
     },
     "metadata": {
      "needs_background": "light"
     },
     "output_type": "display_data"
    }
   ],
   "source": [
    "# Plotting Scatter Points and Regression Line\n",
    "\n",
    "plt.scatter(x, y, color='r', label='Scatter Points')\n",
    "plt.plot(x, Y, color='b', label='Regression line')\n",
    "\n",
    "plt.legend()\n",
    "plt.show()"
   ]
  },
  {
   "cell_type": "code",
   "execution_count": 38,
   "metadata": {},
   "outputs": [
    {
     "name": "stdout",
     "output_type": "stream",
     "text": [
      "0.639311719957\n"
     ]
    }
   ],
   "source": [
    "print(lr.score(x,y))"
   ]
  }
 ],
 "metadata": {
  "kernelspec": {
   "display_name": "Python 3",
   "language": "python",
   "name": "python3"
  },
  "language_info": {
   "codemirror_mode": {
    "name": "ipython",
    "version": 3
   },
   "file_extension": ".py",
   "mimetype": "text/x-python",
   "name": "python",
   "nbconvert_exporter": "python",
   "pygments_lexer": "ipython3",
   "version": "3.8.3"
  }
 },
 "nbformat": 4,
 "nbformat_minor": 4
}
